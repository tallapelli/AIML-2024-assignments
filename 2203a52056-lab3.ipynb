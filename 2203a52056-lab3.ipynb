{
  "nbformat": 4,
  "nbformat_minor": 0,
  "metadata": {
    "colab": {
      "provenance": []
    },
    "kernelspec": {
      "name": "python3",
      "display_name": "Python 3"
    },
    "language_info": {
      "name": "python"
    }
  },
  "cells": [
    {
      "cell_type": "code",
      "execution_count": null,
      "metadata": {
        "id": "4YeA3yEaRBmM",
        "colab": {
          "base_uri": "https://localhost:8080/"
        },
        "outputId": "dd335998-5b27-44a1-e1b0-24b56d3e28ba"
      },
      "outputs": [
        {
          "output_type": "stream",
          "name": "stdout",
          "text": [
            "BFS traversal starting from vertex 0 :\n",
            "0 1 3 2 4 5 "
          ]
        }
      ],
      "source": [
        "from collections import deque\n",
        "\n",
        "def bfs(graph, start):\n",
        "    visited = set()\n",
        "    queue = deque([start])\n",
        "\n",
        "    while queue:\n",
        "        vertex = queue.popleft()\n",
        "\n",
        "        if vertex not in visited:\n",
        "            print(vertex, end=' ' )\n",
        "            visited.add(vertex)\n",
        "\n",
        "\n",
        "            queue.extend(neighbor for neighbor in graph[vertex] if neighbor not in visited)\n",
        "\n",
        "\n",
        "graph = {\n",
        "    0: [1, 3],\n",
        "    1: [0, 2, 3],\n",
        "    2: [1, 4, 5],\n",
        "    3: [0, 1, 4],\n",
        "    4: [2, 3, 5],\n",
        "    5: [2, 4]\n",
        "    }\n",
        "start_vertex = 0\n",
        "\n",
        "print(\"BFS traversal starting from vertex\", start_vertex, \":\")\n",
        "bfs(graph, start_vertex)"
      ]
    },
    {
      "cell_type": "code",
      "source": [
        "def dfs(graph, start):\n",
        "    visited = set()\n",
        "    stack = [start]\n",
        "\n",
        "    while stack:\n",
        "        vertex = stack.pop()\n",
        "\n",
        "        if vertex not in visited:\n",
        "            print(vertex, end=' ')\n",
        "            visited.add(vertex)\n",
        "\n",
        "\n",
        "            stack.extend(neighbor for neighbor in graph[vertex] if neighbor not in visited)\n",
        "graph = {\n",
        "    'A': ['B', 'S'],\n",
        "    'B': ['A'],\n",
        "    'C': ['D', 'E', 'F', 'S'],\n",
        "    'D': ['C'],\n",
        "    'E': ['C', 'H'],\n",
        "    'F': ['C', 'G'],\n",
        "    'G': ['F', 'H', 'S'],\n",
        "    'H': ['E', 'G'],\n",
        "    'S': ['A', 'C', 'G']\n",
        "    }\n",
        "start_vertex = 'A'\n",
        "\n",
        "print(\"DFS traversal starting from vertex\", start_vertex, \":\")\n",
        "dfs(graph, start_vertex)"
      ],
      "metadata": {
        "colab": {
          "base_uri": "https://localhost:8080/"
        },
        "id": "RjDj2suxMcXv",
        "outputId": "b84bd770-38d0-4f38-e591-65faf48a66ac"
      },
      "execution_count": null,
      "outputs": [
        {
          "output_type": "stream",
          "name": "stdout",
          "text": [
            "DFS traversal starting from vertex A :\n",
            "A S G H E C F D B "
          ]
        }
      ]
    },
    {
      "cell_type": "code",
      "source": [
        "\n",
        "import heapq\n",
        "\n",
        "class Node:\n",
        "    def __init__(self, row, col, obstacle=False):\n",
        "        self.row = row\n",
        "        self.col = col\n",
        "        self.obstacle = obstacle\n",
        "        self.g = float('inf')  # distance from start node\n",
        "        self.h = 0  # heuristic distance to goal node\n",
        "        self.f = float('inf')  # total cost\n",
        "        self.parent = None\n",
        "\n",
        "    def __lt__(self, other):\n",
        "        return self.f < other.f\n",
        "\n",
        "def astar(grid, start, end):\n",
        "    rows, cols = len(grid), len(grid[0])\n",
        "    open_set = []\n",
        "    closed_set = set()\n",
        "\n",
        "    start_node = Node(*start)\n",
        "    start_node.g = start_node.h = start_node.f = 0\n",
        "    end_node = Node(*end)\n",
        "\n",
        "    heapq.heappush(open_set, start_node)\n",
        "\n",
        "    while open_set:\n",
        "        current_node = heapq.heappop(open_set)\n",
        "\n",
        "        if current_node.row == end_node.row and current_node.col == end_node.col:\n",
        "            path = []\n",
        "            while current_node:\n",
        "                path.append((current_node.row, current_node.col))\n",
        "                current_node = current_node.parent\n",
        "            return path[::-1]\n",
        "\n",
        "        closed_set.add((current_node.row, current_node.col))\n",
        "\n",
        "        for dr, dc in [(1, 0), (-1, 0), (0, 1), (0, -1)]:\n",
        "            neighbor_row, neighbor_col = current_node.row + dr, current_node.col + dc\n",
        "\n",
        "            if neighbor_row < 0 or neighbor_row >= rows or neighbor_col < 0 or neighbor_col >= cols:\n",
        "                continue\n",
        "            if grid[neighbor_row][neighbor_col] == 1:  # obstacle\n",
        "                continue\n",
        "\n",
        "            neighbor = Node(neighbor_row, neighbor_col)\n",
        "            if (neighbor.row, neighbor.col) in closed_set:\n",
        "                continue\n",
        "\n",
        "            tentative_g_score = current_node.g + 1  # Assuming each step cost is 1\n",
        "            if tentative_g_score < neighbor.g:\n",
        "                neighbor.parent = current_node\n",
        "                neighbor.g = tentative_g_score\n",
        "                neighbor.h = abs(neighbor.row - end_node.row) + abs(neighbor.col - end_node.col)\n",
        "                neighbor.f = neighbor.g + neighbor.h\n",
        "                heapq.heappush(open_set, neighbor)\n",
        "\n",
        "    return None\n",
        "grid = [\n",
        "    [0, 0, 0, 0, 0],\n",
        "    [0, 1, 1, 1, 0],\n",
        "    [0, 0, 0, 0, 0],\n",
        "    [1, 1, 1, 1, 0],\n",
        "    [0, 0, 0, 0, 0]\n",
        "]\n",
        "\n",
        "start = (0, 0)\n",
        "end = (4, 4)\n",
        "\n",
        "path = astar(grid, start, end)\n",
        "if path:\n",
        "    print(\"Path found:\", path)\n",
        "else:\n",
        "    print(\"No path found\")\n"
      ],
      "metadata": {
        "colab": {
          "base_uri": "https://localhost:8080/"
        },
        "id": "8dKm3qoIMgpB",
        "outputId": "56c8b76c-c56f-4cfb-fb20-8d40c9e2dd4d"
      },
      "execution_count": 1,
      "outputs": [
        {
          "output_type": "stream",
          "name": "stdout",
          "text": [
            "Path found: [(0, 0), (1, 0), (2, 0), (2, 1), (2, 2), (2, 3), (2, 4), (3, 4), (4, 4)]\n"
          ]
        }
      ]
    }
  ]
}